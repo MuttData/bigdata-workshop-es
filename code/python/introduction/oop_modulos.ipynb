{
 "cells": [
  {
   "cell_type": "markdown",
   "id": "7cc391f3",
   "metadata": {},
   "source": [
    "# OOP y Modulos en Python"
   ]
  },
  {
   "cell_type": "markdown",
   "id": "0cc2f31f",
   "metadata": {},
   "source": [
    "## OOP"
   ]
  },
  {
   "cell_type": "code",
   "execution_count": null,
   "id": "0fe749f4",
   "metadata": {},
   "outputs": [],
   "source": [
    "class Animal:\n",
    "\n",
    "    def __init__(self, name, species):\n",
    "        self.name = name\n",
    "        self.species = species\n",
    "\n",
    "    def make_sound(self):\n",
    "        print(f\"As a {self.species} I make some sound\")\n"
   ]
  },
  {
   "cell_type": "code",
   "execution_count": null,
   "id": "70798f36",
   "metadata": {},
   "outputs": [],
   "source": []
  },
  {
   "cell_type": "markdown",
   "id": "35a56099",
   "metadata": {},
   "source": [
    "### Herencia"
   ]
  },
  {
   "cell_type": "code",
   "execution_count": null,
   "id": "c2d20f89",
   "metadata": {},
   "outputs": [],
   "source": [
    "class Cat(Animal):\n",
    "    def __init__(self, name):\n",
    "        super().__init__(name, species='feline')\n",
    "\n",
    "    def make_sound(self):\n",
    "        print(\"I meow\")"
   ]
  },
  {
   "cell_type": "code",
   "execution_count": null,
   "id": "bebea17b",
   "metadata": {},
   "outputs": [],
   "source": []
  },
  {
   "cell_type": "markdown",
   "id": "406a2b07",
   "metadata": {},
   "source": [
    "## Modulos"
   ]
  },
  {
   "cell_type": "code",
   "execution_count": 3,
   "id": "48d884a2",
   "metadata": {},
   "outputs": [],
   "source": [
    "import datetime"
   ]
  },
  {
   "cell_type": "code",
   "execution_count": 4,
   "id": "0a153e05",
   "metadata": {},
   "outputs": [],
   "source": [
    "d = datetime.date(2020, 10, 1)"
   ]
  }
 ],
 "metadata": {
  "kernelspec": {
   "display_name": "Python 3",
   "language": "python",
   "name": "python3"
  },
  "language_info": {
   "codemirror_mode": {
    "name": "ipython",
    "version": 3
   },
   "file_extension": ".py",
   "mimetype": "text/x-python",
   "name": "python",
   "nbconvert_exporter": "python",
   "pygments_lexer": "ipython3",
   "version": "3.9.6"
  }
 },
 "nbformat": 4,
 "nbformat_minor": 5
}
